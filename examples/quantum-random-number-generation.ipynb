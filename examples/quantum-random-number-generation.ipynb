{
 "cells": [
  {
   "attachments": {},
   "cell_type": "markdown",
   "id": "d03f7a0a",
   "metadata": {},
   "source": [
    "# Quantum Random Number Generation\n",
    "\n",
    "In order to showcase our extractor library once more, we consider another use-case: quantum random number generation (QRNG).\n",
    "IN QRNG, randomness extraction is used to ensure the output is only \n",
    "the true randomness generated from quantum mechanical effects, not including classical noise which is only computationally random.\n",
    "\n",
    "## Semi-Device-Independent Heterodyne-Based QRNG\n",
    "\n",
    "We consider the semi-device-independent quantum random number generator based on heterodyne detection [ATVV2021]_. \n",
    "In this scheme, the authors introduce a semi-DI QRNG based on heterodyne detection that assumes an upper\n",
    "bound on the amount of energy generated states have, there is no I.I.D type assumption on these states.\n",
    "The implementation boast high generation rates with a relatively simple\n",
    "experimental setup. It is based on the prepare-and-measure scenario; therefore, no entanglement generation is necessary.\n",
    "The protocol security is considered against classical side information only. \n",
    "\n",
    "\n",
    "In order to calculate the amount of output generated randomness, they fix the security parameters \n",
    "associated to the randomness extractor, $\\epsilon_{RE}$, as $10^{-10}$, and the global protocol security parameter \n",
    "$\\epsilon_{prot}$to be $\\leq 10^{-5}$. \n",
    "The block length they choose for finite analysis is $6.5 \\cdot 10^{9}$, which is chosen to minimize the finite size correction terms. \n",
    "The experimental results give a min-entropy rate of $0.09$ bits per trial, which is reduced to $0.08943$ once accounting for finite size corrections. \n",
    "This gives a total entropy of $k = 0.08943$ and $n = 581295000$. \n",
    "\n",
    "\n",
    "The experimental demonstration uses the Toeplitz extractor, which can give an output length of $\\geq 581294933$, given the\n",
    "extractor error is $\\leq 10^{-10}$. \n",
    "This requires a seed of $7081294934$ bits and for the raw randomness input length of $6.5 \\cdot 10^{9}$."
   ]
  },
  {
   "cell_type": "code",
   "execution_count": 1,
   "id": "d3dc272f",
   "metadata": {},
   "outputs": [],
   "source": [
    "import cryptomite\n",
    "from math import log2, floor\n",
    "def randomness_extraction(seed_bits, raw_randomness, n = 6500000000, k = 581295000, epsilon = 10**-10):\n",
    "  \"\"\" Perform randomness extraction for semi-DI QRNG. \n",
    "\n",
    "  Parameters\n",
    "  ----------\n",
    "  seed_bits : list of bits generated \n",
    "    independently of the QKD protocol\n",
    "    using a QRNG.\n",
    "  raw_randomness : list of bits from \n",
    "    the results of measurements in the QRNG \n",
    "    protocol based on heterodyne measurements. \n",
    "  n: integer, the number of raw randomness bits.\n",
    "  k: total min-entropy of the raw randomness. \n",
    "  epsilon: extractor error parameter.\n",
    "\n",
    "  Returns\n",
    "  ---------\n",
    "  list of bits\n",
    "    The extracted output, which is \n",
    "    the shared secret key.\n",
    "  \"\"\"\n",
    "  assert len(seed_bits) == n + m - 1\n",
    "  assert len(raw_randomness) == n\n",
    "  m = floor(k + 2*log2(epsilon))\n",
    "  toeplitz = cryptomite.Toeplitz(n, m)\n",
    "  return toeplitz.extract(seed_bits, raw_randomness)"
   ]
  }
 ],
 "metadata": {
  "kernelspec": {
   "display_name": "cqcenv",
   "language": "python",
   "name": "python3"
  },
  "language_info": {
   "name": "python",
   "version": "3.8.6 (default, Sep 28 2020, 04:41:02) \n[Clang 11.0.3 (clang-1103.0.32.62)]"
  },
  "vscode": {
   "interpreter": {
    "hash": "387a14a3015d91e6279f9d63ff94ea7a45fc0dbedceff8d7a2a520a51eb61771"
   }
  }
 },
 "nbformat": 4,
 "nbformat_minor": 5
}
