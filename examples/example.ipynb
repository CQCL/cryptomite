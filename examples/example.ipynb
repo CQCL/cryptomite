{
 "cells": [
  {
   "attachments": {},
   "cell_type": "markdown",
   "id": "512571e4",
   "metadata": {},
   "source": [
    "# Basic Usage\n",
    "\n",
    "In this notebook, we give a few examples of how to use ``Cryptomite`` and accompanying utility functions. \n",
    "A similar, more introductory, guide to getting started can be found in this [blog post](https://medium.com/quantinuum/introducing-cryptomite-randomness-extraction-simplified-857fc2f87673)."
   ]
  },
  {
   "cell_type": "markdown",
   "id": "1a031d29",
   "metadata": {},
   "source": [
    "## Quick Start\n",
    "\n",
    "``pip install cryptomite``"
   ]
  },
  {
   "cell_type": "markdown",
   "id": "4b899d5b",
   "metadata": {},
   "source": [
    "## Initializing an extractor\n",
    "\n",
    "Using ``Cryptomite``, extractors can be initialized by giving the input length (in bits) ``n_1`` and output length (in bits) ``m``, or in the case of the Trevisan extractor, giving the input length ``n``, output length ``m`` and maximum acceptable extractor error,``error``.\n",
    "We generate all the extractors of ``Cryptomite`` below, for an example ``n_1``, ``m``, ``error``:\n"
   ]
  },
  {
   "cell_type": "code",
   "execution_count": 1,
   "id": "5f168725",
   "metadata": {
    "execution": {
     "iopub.execute_input": "2025-03-12T11:09:48.813087Z",
     "iopub.status.busy": "2025-03-12T11:09:48.812418Z",
     "iopub.status.idle": "2025-03-12T11:09:48.821687Z",
     "shell.execute_reply": "2025-03-12T11:09:48.821160Z"
    }
   },
   "outputs": [],
   "source": [
    "import cryptomite\n",
    "n_1, m, error = 100, 90, 0.0001\n",
    "circulant = cryptomite.Circulant(n_1, m)\n",
    "dodis = cryptomite.Dodis(n_1, m)\n",
    "toeplitz = cryptomite.Toeplitz(n_1, m)\n",
    "trevisan = cryptomite.Trevisan(n_1, m, error)"
   ]
  },
  {
   "cell_type": "markdown",
   "id": "23b75513",
   "metadata": {},
   "source": [
    "## Performing extraction\n",
    "\n",
    "Now the extractors have been initialized, we demonstrate how to perform extraction. \n",
    "The extractors take a list of input bits and a list of (weak) seed bits as input and output a new list of bits.\n",
    "Each extractor of ``Cryptomite`` requires a different amount of (weak) seed bits and the calculation of this is left to the user (either manually or using our ``from_params`` utility functions). \n",
    "In the following example, we generate both the input string and the (weak) seed using ``randint`` function from the ``random`` Python library, which users would replace with their desired generation methods, and use ``n_1`` and ``n_2`` to represent the input and (weak) seed lengths, respectively."
   ]
  },
  {
   "cell_type": "code",
   "execution_count": 2,
   "id": "0d28807c",
   "metadata": {
    "execution": {
     "iopub.execute_input": "2025-03-12T11:09:48.824197Z",
     "iopub.status.busy": "2025-03-12T11:09:48.823822Z",
     "iopub.status.idle": "2025-03-12T11:09:49.014039Z",
     "shell.execute_reply": "2025-03-12T11:09:49.013327Z"
    }
   },
   "outputs": [
    {
     "ename": "NameError",
     "evalue": "name 'n_2' is not defined",
     "output_type": "error",
     "traceback": [
      "\u001b[0;31m---------------------------------------------------------------------------\u001b[0m",
      "\u001b[0;31mNameError\u001b[0m                                 Traceback (most recent call last)",
      "Cell \u001b[0;32mIn[2], line 3\u001b[0m\n\u001b[1;32m      1\u001b[0m \u001b[38;5;28;01mfrom\u001b[39;00m\u001b[38;5;250m \u001b[39m\u001b[38;5;21;01mrandom\u001b[39;00m\u001b[38;5;250m \u001b[39m\u001b[38;5;28;01mimport\u001b[39;00m randint\n\u001b[1;32m      2\u001b[0m input_bits \u001b[38;5;241m=\u001b[39m [randint(\u001b[38;5;241m0\u001b[39m, \u001b[38;5;241m1\u001b[39m) \u001b[38;5;28;01mfor\u001b[39;00m _ \u001b[38;5;129;01min\u001b[39;00m \u001b[38;5;28mrange\u001b[39m(n_1)]\n\u001b[0;32m----> 3\u001b[0m circulant\u001b[38;5;241m.\u001b[39mextract(input_bits, [randint(\u001b[38;5;241m0\u001b[39m, \u001b[38;5;241m1\u001b[39m) \u001b[38;5;28;01mfor\u001b[39;00m _ \u001b[38;5;129;01min\u001b[39;00m \u001b[38;5;28mrange\u001b[39m(\u001b[43mn_2\u001b[49m)])\n\u001b[1;32m      4\u001b[0m dodis\u001b[38;5;241m.\u001b[39mextract(input_bits, [randint(\u001b[38;5;241m0\u001b[39m, \u001b[38;5;241m1\u001b[39m) \u001b[38;5;28;01mfor\u001b[39;00m _ \u001b[38;5;129;01min\u001b[39;00m \u001b[38;5;28mrange\u001b[39m(n_2)])\n\u001b[1;32m      5\u001b[0m toeplitz\u001b[38;5;241m.\u001b[39mextract(input_bits, [randint(\u001b[38;5;241m0\u001b[39m, \u001b[38;5;241m1\u001b[39m) \u001b[38;5;28;01mfor\u001b[39;00m _ \u001b[38;5;129;01min\u001b[39;00m \u001b[38;5;28mrange\u001b[39m(n_2)])\n",
      "\u001b[0;31mNameError\u001b[0m: name 'n_2' is not defined"
     ]
    }
   ],
   "source": [
    "from random import randint\n",
    "input_bits = [randint(0, 1) for _ in range(n_1)]\n",
    "circulant.extract(input_bits, [randint(0, 1) for _ in range(n_2)])\n",
    "dodis.extract(input_bits, [randint(0, 1) for _ in range(n_2)])\n",
    "toeplitz.extract(input_bits, [randint(0, 1) for _ in range(n_2)])\n",
    "trevisan.extract(input_bits, [randint(0, 1) for _ in range(n_2)])"
   ]
  },
  {
   "cell_type": "markdown",
   "id": "42f7f24f",
   "metadata": {
    "raw_mimetype": "text/restructuredtext"
   },
   "source": [
    "## Using the from_params utility functions\n",
    "\n",
    "Alternatively, all ``Cryptomite`` extractors (except Trevisan) can be generated without manually calculating the output or seed length, by using the ``from_params`` utility functions. \n",
    "Simply provide the input length, input min-entropy, (weak) seed length, (weak) seed min-entropy, maximum acceptable extractor error and specify whether to calculate the quantum-proof output length or not. \n",
    "For example:"
   ]
  },
  {
   "cell_type": "code",
   "execution_count": 3,
   "id": "19ba95c7",
   "metadata": {
    "execution": {
     "iopub.execute_input": "2025-03-12T11:09:49.016818Z",
     "iopub.status.busy": "2025-03-12T11:09:49.016575Z",
     "iopub.status.idle": "2025-03-12T11:09:49.049211Z",
     "shell.execute_reply": "2025-03-12T11:09:49.048542Z"
    }
   },
   "outputs": [
    {
     "name": "stdout",
     "output_type": "stream",
     "text": [
      "--- New Circulant Extractor Parameters ---\n",
      "Input Length 1 (n_1): 100, Min Entropy of Input 1 (k_1): 60, Input Length 2 (n_2): 101, Min Entropy of Input 2 (k_2): 80, Output Length (m): 5, Extraction Error (log2_error): -16.609640474436812. \n",
      "Adjust the length of the input\n",
      "                  and (weak) seed accordingly.\n",
      "--- New Dodis et al. Extractor Parameters ---\n",
      "Input Length 1 (n_1): 101, Min Entropy of Input 1 (k_1): 60, Input Length 2 (n_2): 101, Min Entropy of Input 2 (k_2): 80, Output Length (m): 6, Extraction Error (log2_error): -16.609640474436812. \n",
      "Adjust the length of the input\n",
      "                  and (weak) seed accordingly.\n"
     ]
    },
    {
     "ename": "ValueError",
     "evalue": "The second input must be longer than the first.Re-order the inputs or increase n_2.",
     "output_type": "error",
     "traceback": [
      "\u001b[0;31m---------------------------------------------------------------------------\u001b[0m",
      "\u001b[0;31mValueError\u001b[0m                                Traceback (most recent call last)",
      "Cell \u001b[0;32mIn[3], line 10\u001b[0m\n\u001b[1;32m      8\u001b[0m circulant \u001b[38;5;241m=\u001b[39m cryptomite\u001b[38;5;241m.\u001b[39mCirculant\u001b[38;5;241m.\u001b[39mfrom_params(n_1, k_1, n_2, k_2, log2_error, q_proof)\n\u001b[1;32m      9\u001b[0m dodis \u001b[38;5;241m=\u001b[39m cryptomite\u001b[38;5;241m.\u001b[39mDodis\u001b[38;5;241m.\u001b[39mfrom_params(n_1, k_1, n_2, k_2, log2_error, q_proof)\n\u001b[0;32m---> 10\u001b[0m toeplitz \u001b[38;5;241m=\u001b[39m \u001b[43mcryptomite\u001b[49m\u001b[38;5;241;43m.\u001b[39;49m\u001b[43mToeplitz\u001b[49m\u001b[38;5;241;43m.\u001b[39;49m\u001b[43mfrom_params\u001b[49m\u001b[43m(\u001b[49m\u001b[43mn_1\u001b[49m\u001b[43m,\u001b[49m\u001b[43m \u001b[49m\u001b[43mk_1\u001b[49m\u001b[43m,\u001b[49m\u001b[43m \u001b[49m\u001b[43mn_2\u001b[49m\u001b[43m,\u001b[49m\u001b[43m \u001b[49m\u001b[43mk_2\u001b[49m\u001b[43m,\u001b[49m\u001b[43m \u001b[49m\u001b[43mlog2_error\u001b[49m\u001b[43m,\u001b[49m\u001b[43m \u001b[49m\u001b[43mq_proof\u001b[49m\u001b[43m)\u001b[49m\n",
      "File \u001b[0;32m/opt/hostedtoolcache/Python/3.8.18/x64/lib/python3.8/site-packages/cryptomite/toeplitz.py:120\u001b[0m, in \u001b[0;36mToeplitz.from_params\u001b[0;34m(n_1, k_1, n_2, k_2, log2_error, q_proof, verbose)\u001b[0m\n\u001b[1;32m    118\u001b[0m \u001b[38;5;66;03m# Ensure the second input is longer than the first.\u001b[39;00m\n\u001b[1;32m    119\u001b[0m \u001b[38;5;28;01mif\u001b[39;00m n_2 \u001b[38;5;241m<\u001b[39m\u001b[38;5;241m=\u001b[39m n_1:\n\u001b[0;32m--> 120\u001b[0m     \u001b[38;5;28;01mraise\u001b[39;00m \u001b[38;5;167;01mValueError\u001b[39;00m(\n\u001b[1;32m    121\u001b[0m         \u001b[38;5;124m'\u001b[39m\u001b[38;5;124mThe second input must be longer than the first.\u001b[39m\u001b[38;5;124m'\u001b[39m\n\u001b[1;32m    122\u001b[0m         \u001b[38;5;124m'\u001b[39m\u001b[38;5;124mRe-order the inputs or increase n_2.\u001b[39m\u001b[38;5;124m'\u001b[39m\n\u001b[1;32m    123\u001b[0m     )\n\u001b[1;32m    125\u001b[0m n_2_adjusted \u001b[38;5;241m=\u001b[39m n_2\n\u001b[1;32m    126\u001b[0m k_2_adjusted \u001b[38;5;241m=\u001b[39m k_2\n",
      "\u001b[0;31mValueError\u001b[0m: The second input must be longer than the first.Re-order the inputs or increase n_2."
     ]
    }
   ],
   "source": [
    "import cryptomite\n",
    "from math import log2\n",
    "n_1, k_1 = 100, 60\n",
    "n_2, k_2 = 100, 80\n",
    "error = 0.00001\n",
    "q_proof = False\n",
    "log2_error = log2(error)\n",
    "circulant = cryptomite.Circulant.from_params(n_1, k_1, n_2, k_2, log2_error, q_proof)\n",
    "dodis = cryptomite.Dodis.from_params(n_1, k_1, n_2, k_2, log2_error, q_proof)\n",
    "toeplitz = cryptomite.Toeplitz.from_params(n_1, k_1, n_2, k_2, log2_error, q_proof)"
   ]
  },
  {
   "cell_type": "markdown",
   "id": "fb5cbab8",
   "metadata": {},
   "source": [
    "In this case, a **valid** extractor is generated from the specified parameters (i.e. one that adheres to the required input and seed length criteria for that extractor).\n",
    "Any changes to input length, seed length, input entropy and seed entropy printed."
   ]
  }
 ],
 "metadata": {
  "kernelspec": {
   "display_name": "Python 3 (ipykernel)",
   "language": "python",
   "name": "python3"
  },
  "language_info": {
   "codemirror_mode": {
    "name": "ipython",
    "version": 3
   },
   "file_extension": ".py",
   "mimetype": "text/x-python",
   "name": "python",
   "nbconvert_exporter": "python",
   "pygments_lexer": "ipython3",
   "version": "3.8.18"
  }
 },
 "nbformat": 4,
 "nbformat_minor": 5
}
